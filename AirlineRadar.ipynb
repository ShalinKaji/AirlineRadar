{
 "cells": [
  {
   "cell_type": "markdown",
   "metadata": {},
   "source": [
    "## What is pmdarima library used for?\n",
    "Pmdarima is a Python library used for time series forecasting and analysis. It provides automated ARIMA (AutoRegressive Integrated Moving Average) modeling capabilities, similar to R's auto.arima function. Key features include:\n",
    "> Automatic selection of optimal ARIMA parameters\n",
    "> Seasonal and non-seasonal ARIMA modeling"
   ]
  },
  {
   "cell_type": "code",
   "execution_count": 1,
   "metadata": {},
   "outputs": [
    {
     "name": "stdout",
     "output_type": "stream",
     "text": [
      "Collecting pmdarima\n",
      "  Downloading pmdarima-2.0.4-cp38-cp38-win_amd64.whl (615 kB)\n",
      "Collecting statsmodels>=0.13.2\n",
      "  Downloading statsmodels-0.14.1-cp38-cp38-win_amd64.whl (10.0 MB)\n",
      "Collecting scikit-learn>=0.22\n",
      "  Downloading scikit_learn-1.3.2-cp38-cp38-win_amd64.whl (9.3 MB)\n",
      "Collecting urllib3\n",
      "  Downloading urllib3-2.2.3-py3-none-any.whl (126 kB)\n",
      "Collecting scipy>=1.3.2\n",
      "  Downloading scipy-1.10.1-cp38-cp38-win_amd64.whl (42.2 MB)\n",
      "Collecting Cython!=0.29.18,!=0.29.31,>=0.29\n",
      "  Downloading Cython-3.0.11-cp38-cp38-win_amd64.whl (2.8 MB)\n",
      "Requirement already satisfied: setuptools!=50.0.0,>=38.6.0 in c:\\users\\shalin kaji\\appdata\\local\\programs\\python\\python38\\lib\\site-packages (from pmdarima) (56.0.0)\n",
      "Collecting packaging>=17.1\n",
      "  Using cached packaging-24.2-py3-none-any.whl (65 kB)\n",
      "Requirement already satisfied: pandas>=0.19 in c:\\users\\shalin kaji\\appdata\\local\\programs\\python\\python38\\lib\\site-packages (from pmdarima) (2.0.3)\n",
      "Collecting joblib>=0.11\n",
      "  Downloading joblib-1.4.2-py3-none-any.whl (301 kB)\n",
      "Requirement already satisfied: numpy>=1.21.2 in c:\\users\\shalin kaji\\appdata\\local\\programs\\python\\python38\\lib\\site-packages (from pmdarima) (1.24.4)\n",
      "Requirement already satisfied: python-dateutil>=2.8.2 in c:\\users\\shalin kaji\\appdata\\local\\programs\\python\\python38\\lib\\site-packages (from pandas>=0.19->pmdarima) (2.9.0.post0)\n",
      "Requirement already satisfied: tzdata>=2022.1 in c:\\users\\shalin kaji\\appdata\\local\\programs\\python\\python38\\lib\\site-packages (from pandas>=0.19->pmdarima) (2024.2)\n",
      "Requirement already satisfied: pytz>=2020.1 in c:\\users\\shalin kaji\\appdata\\local\\programs\\python\\python38\\lib\\site-packages (from pandas>=0.19->pmdarima) (2024.2)\n",
      "Requirement already satisfied: six>=1.5 in c:\\users\\shalin kaji\\appdata\\local\\programs\\python\\python38\\lib\\site-packages (from python-dateutil>=2.8.2->pandas>=0.19->pmdarima) (1.16.0)\n",
      "Collecting threadpoolctl>=2.0.0\n",
      "  Downloading threadpoolctl-3.5.0-py3-none-any.whl (18 kB)\n",
      "Collecting patsy>=0.5.4\n",
      "  Downloading patsy-1.0.1-py2.py3-none-any.whl (232 kB)\n",
      "Installing collected packages: threadpoolctl, scipy, patsy, packaging, joblib, urllib3, statsmodels, scikit-learn, Cython, pmdarima\n",
      "Successfully installed Cython-3.0.11 joblib-1.4.2 packaging-24.2 patsy-1.0.1 pmdarima-2.0.4 scikit-learn-1.3.2 scipy-1.10.1 statsmodels-0.14.1 threadpoolctl-3.5.0 urllib3-2.2.3\n"
     ]
    },
    {
     "name": "stderr",
     "output_type": "stream",
     "text": [
      "WARNING: You are using pip version 21.1.1; however, version 24.3.1 is available.\n",
      "You should consider upgrading via the 'c:\\users\\shalin kaji\\appdata\\local\\programs\\python\\python38\\python.exe -m pip install --upgrade pip' command.\n"
     ]
    }
   ],
   "source": [
    "!pip install pmdarima"
   ]
  },
  {
   "cell_type": "code",
   "execution_count": null,
   "metadata": {},
   "outputs": [],
   "source": []
  }
 ],
 "metadata": {
  "kernelspec": {
   "display_name": "Python 3",
   "language": "python",
   "name": "python3"
  },
  "language_info": {
   "codemirror_mode": {
    "name": "ipython",
    "version": 3
   },
   "file_extension": ".py",
   "mimetype": "text/x-python",
   "name": "python",
   "nbconvert_exporter": "python",
   "pygments_lexer": "ipython3",
   "version": "3.11.4"
  }
 },
 "nbformat": 4,
 "nbformat_minor": 2
}
